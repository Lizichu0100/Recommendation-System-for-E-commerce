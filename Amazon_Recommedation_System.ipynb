{
  "cells": [
    {
      "cell_type": "markdown",
      "id": "90281f7b",
      "metadata": {
        "id": "90281f7b"
      },
      "source": [
        "### 1. Import libraries & Load data meta_Appliances.json & Appliances.json"
      ]
    },
    {
      "cell_type": "code",
      "execution_count": null,
      "id": "bf875bac",
      "metadata": {
        "id": "bf875bac"
      },
      "outputs": [],
      "source": [
        "import pandas as pd\n",
        "import numpy as np\n",
        "import matplotlib.pyplot as plt\n",
        "import torch\n",
        "import torch.nn as nn\n",
        "import random\n",
        "from sklearn.preprocessing import LabelEncoder\n",
        "from torch.utils.data import TensorDataset, DataLoader\n",
        "from sklearn.metrics import ndcg_score, mean_absolute_error, root_mean_squared_error\n",
        "from collections import defaultdict"
      ]
    },
    {
      "cell_type": "code",
      "execution_count": null,
      "id": "2b189249",
      "metadata": {
        "id": "2b189249"
      },
      "outputs": [],
      "source": [
        "df = pd.read_json(\"meta_Appliances.json\", lines=True)\n",
        "df = df.drop(columns=[\"feature\", \"fit\", \"description\", \"imageURL\", \"imageURLHighRes\", \"tech1\", \"tech2\", \"rank\", \"similar_item\"])"
      ]
    },
    {
      "cell_type": "code",
      "execution_count": null,
      "id": "2afbb911",
      "metadata": {
        "id": "2afbb911",
        "outputId": "d8e35ea0-3b8b-483a-c542-ac6f58a4a0af"
      },
      "outputs": [
        {
          "data": {
            "text/html": [
              "<div>\n",
              "<style scoped>\n",
              "    .dataframe tbody tr th:only-of-type {\n",
              "        vertical-align: middle;\n",
              "    }\n",
              "\n",
              "    .dataframe tbody tr th {\n",
              "        vertical-align: top;\n",
              "    }\n",
              "\n",
              "    .dataframe thead th {\n",
              "        text-align: right;\n",
              "    }\n",
              "</style>\n",
              "<table border=\"1\" class=\"dataframe\">\n",
              "  <thead>\n",
              "    <tr style=\"text-align: right;\">\n",
              "      <th></th>\n",
              "      <th>category</th>\n",
              "      <th>title</th>\n",
              "      <th>also_buy</th>\n",
              "      <th>brand</th>\n",
              "      <th>also_view</th>\n",
              "      <th>details</th>\n",
              "      <th>main_cat</th>\n",
              "      <th>date</th>\n",
              "      <th>price</th>\n",
              "      <th>asin</th>\n",
              "    </tr>\n",
              "  </thead>\n",
              "  <tbody>\n",
              "    <tr>\n",
              "      <th>0</th>\n",
              "      <td>Appliances, Refrigerators, Freezers &amp; Ice Makers</td>\n",
              "      <td>Tupperware Freezer Square Round Container Set ...</td>\n",
              "      <td>[]</td>\n",
              "      <td>Tupperware</td>\n",
              "      <td>[]</td>\n",
              "      <td>{}</td>\n",
              "      <td>Appliances</td>\n",
              "      <td>November 19, 2008</td>\n",
              "      <td></td>\n",
              "      <td>7301113188</td>\n",
              "    </tr>\n",
              "    <tr>\n",
              "      <th>1</th>\n",
              "      <td>Appliances, Refrigerators, Freezers &amp; Ice Makers</td>\n",
              "      <td>2 X Tupperware Pure &amp;amp; Fresh Unique Covered...</td>\n",
              "      <td>[]</td>\n",
              "      <td>Tupperware</td>\n",
              "      <td>[B004RUGHJW]</td>\n",
              "      <td>{}</td>\n",
              "      <td>Appliances</td>\n",
              "      <td>June 5, 2016</td>\n",
              "      <td>$3.62</td>\n",
              "      <td>7861850250</td>\n",
              "    </tr>\n",
              "    <tr>\n",
              "      <th>2</th>\n",
              "      <td>Appliances, Parts &amp;amp; Accessories</td>\n",
              "      <td>The Cigar - Moments of Pleasure</td>\n",
              "      <td>[]</td>\n",
              "      <td>The Cigar Book</td>\n",
              "      <td>[B01HCAVSLK, 1632206579]</td>\n",
              "      <td>{}</td>\n",
              "      <td>Amazon Home</td>\n",
              "      <td></td>\n",
              "      <td>$150.26</td>\n",
              "      <td>8792559360</td>\n",
              "    </tr>\n",
              "    <tr>\n",
              "      <th>3</th>\n",
              "      <td>Appliances, Parts &amp; Accessories</td>\n",
              "      <td>Caraselle 2X 50G Appliance Descalene</td>\n",
              "      <td>[]</td>\n",
              "      <td>Caraselle</td>\n",
              "      <td>[]</td>\n",
              "      <td>{}</td>\n",
              "      <td>Tools &amp; Home Improvement</td>\n",
              "      <td>December 17, 2014</td>\n",
              "      <td>.a-box-inner{background-color:#fff}#alohaBuyBo...</td>\n",
              "      <td>9792954481</td>\n",
              "    </tr>\n",
              "    <tr>\n",
              "      <th>4</th>\n",
              "      <td>Appliances, Parts &amp; Accessories, Range Parts &amp;...</td>\n",
              "      <td>EATON Wiring 39CH-SP-L Arrow Hart 1-Gang Chrom...</td>\n",
              "      <td>[]</td>\n",
              "      <td>EATON Wiring</td>\n",
              "      <td>[]</td>\n",
              "      <td>{}</td>\n",
              "      <td>Tools &amp; Home Improvement</td>\n",
              "      <td>January 16, 2007</td>\n",
              "      <td>$3.43</td>\n",
              "      <td>B00002N5EL</td>\n",
              "    </tr>\n",
              "  </tbody>\n",
              "</table>\n",
              "</div>"
            ],
            "text/plain": [
              "                                            category  \\\n",
              "0   Appliances, Refrigerators, Freezers & Ice Makers   \n",
              "1   Appliances, Refrigerators, Freezers & Ice Makers   \n",
              "2                Appliances, Parts &amp; Accessories   \n",
              "3                    Appliances, Parts & Accessories   \n",
              "4  Appliances, Parts & Accessories, Range Parts &...   \n",
              "\n",
              "                                               title also_buy           brand  \\\n",
              "0  Tupperware Freezer Square Round Container Set ...       []      Tupperware   \n",
              "1  2 X Tupperware Pure &amp; Fresh Unique Covered...       []      Tupperware   \n",
              "2                    The Cigar - Moments of Pleasure       []  The Cigar Book   \n",
              "3               Caraselle 2X 50G Appliance Descalene       []       Caraselle   \n",
              "4  EATON Wiring 39CH-SP-L Arrow Hart 1-Gang Chrom...       []    EATON Wiring   \n",
              "\n",
              "                  also_view details                  main_cat  \\\n",
              "0                        []      {}                Appliances   \n",
              "1              [B004RUGHJW]      {}                Appliances   \n",
              "2  [B01HCAVSLK, 1632206579]      {}               Amazon Home   \n",
              "3                        []      {}  Tools & Home Improvement   \n",
              "4                        []      {}  Tools & Home Improvement   \n",
              "\n",
              "                date                                              price  \\\n",
              "0  November 19, 2008                                                      \n",
              "1       June 5, 2016                                              $3.62   \n",
              "2                                                               $150.26   \n",
              "3  December 17, 2014  .a-box-inner{background-color:#fff}#alohaBuyBo...   \n",
              "4   January 16, 2007                                              $3.43   \n",
              "\n",
              "         asin  \n",
              "0  7301113188  \n",
              "1  7861850250  \n",
              "2  8792559360  \n",
              "3  9792954481  \n",
              "4  B00002N5EL  "
            ]
          },
          "execution_count": 3,
          "metadata": {},
          "output_type": "execute_result"
        }
      ],
      "source": [
        "df['category'] = df['category'].apply(lambda x: ', '.join(x) if isinstance(x, list) else str(x))\n",
        "df.astype(str).drop_duplicates(inplace=True)\n",
        "df.head()"
      ]
    },
    {
      "cell_type": "code",
      "execution_count": null,
      "id": "a9edec1d",
      "metadata": {
        "id": "a9edec1d"
      },
      "outputs": [],
      "source": [
        "df2 = pd.read_json(\"Appliances.json\", lines=True)\n",
        "df2 = df2.drop(columns=[\"style\", \"unixReviewTime\", \"image\"])"
      ]
    },
    {
      "cell_type": "code",
      "execution_count": null,
      "id": "923521b0",
      "metadata": {
        "id": "923521b0",
        "outputId": "2f6bfe78-e623-47db-afa9-a0ea2eb67dbd"
      },
      "outputs": [
        {
          "data": {
            "text/html": [
              "<div>\n",
              "<style scoped>\n",
              "    .dataframe tbody tr th:only-of-type {\n",
              "        vertical-align: middle;\n",
              "    }\n",
              "\n",
              "    .dataframe tbody tr th {\n",
              "        vertical-align: top;\n",
              "    }\n",
              "\n",
              "    .dataframe thead th {\n",
              "        text-align: right;\n",
              "    }\n",
              "</style>\n",
              "<table border=\"1\" class=\"dataframe\">\n",
              "  <thead>\n",
              "    <tr style=\"text-align: right;\">\n",
              "      <th></th>\n",
              "      <th>overall</th>\n",
              "      <th>vote</th>\n",
              "      <th>verified</th>\n",
              "      <th>reviewTime</th>\n",
              "      <th>reviewerID</th>\n",
              "      <th>asin</th>\n",
              "      <th>reviewerName</th>\n",
              "      <th>reviewText</th>\n",
              "      <th>summary</th>\n",
              "    </tr>\n",
              "  </thead>\n",
              "  <tbody>\n",
              "    <tr>\n",
              "      <th>0</th>\n",
              "      <td>5</td>\n",
              "      <td>2</td>\n",
              "      <td>False</td>\n",
              "      <td>11 27, 2013</td>\n",
              "      <td>A3NHUQ33CFH3VM</td>\n",
              "      <td>1118461304</td>\n",
              "      <td>Greeny</td>\n",
              "      <td>Not one thing in this book seemed an obvious o...</td>\n",
              "      <td>Clear on what leads to innovation</td>\n",
              "    </tr>\n",
              "    <tr>\n",
              "      <th>1</th>\n",
              "      <td>5</td>\n",
              "      <td>NaN</td>\n",
              "      <td>False</td>\n",
              "      <td>11 1, 2013</td>\n",
              "      <td>A3SK6VNBQDNBJE</td>\n",
              "      <td>1118461304</td>\n",
              "      <td>Leif C. Ulstrup</td>\n",
              "      <td>I have enjoyed Dr. Alan Gregerman's weekly blo...</td>\n",
              "      <td>Becoming more innovative by opening yourself t...</td>\n",
              "    </tr>\n",
              "    <tr>\n",
              "      <th>2</th>\n",
              "      <td>5</td>\n",
              "      <td>NaN</td>\n",
              "      <td>False</td>\n",
              "      <td>10 10, 2013</td>\n",
              "      <td>A3SOFHUR27FO3K</td>\n",
              "      <td>1118461304</td>\n",
              "      <td>Harry Gilbert Miller III</td>\n",
              "      <td>Alan Gregerman believes that innovation comes ...</td>\n",
              "      <td>The World from Different Perspectives</td>\n",
              "    </tr>\n",
              "    <tr>\n",
              "      <th>3</th>\n",
              "      <td>5</td>\n",
              "      <td>NaN</td>\n",
              "      <td>False</td>\n",
              "      <td>10 9, 2013</td>\n",
              "      <td>A1HOG1PYCAE157</td>\n",
              "      <td>1118461304</td>\n",
              "      <td>Rebecca Ripley</td>\n",
              "      <td>Alan Gregerman is a smart, funny, entertaining...</td>\n",
              "      <td>Strangers are Your New Best Friends</td>\n",
              "    </tr>\n",
              "    <tr>\n",
              "      <th>4</th>\n",
              "      <td>5</td>\n",
              "      <td>10</td>\n",
              "      <td>False</td>\n",
              "      <td>09 7, 2013</td>\n",
              "      <td>A26JGAM6GZMM4V</td>\n",
              "      <td>1118461304</td>\n",
              "      <td>Robert Morris</td>\n",
              "      <td>As I began to read this book, I was again remi...</td>\n",
              "      <td>How and why it is imperative to engage, learn ...</td>\n",
              "    </tr>\n",
              "  </tbody>\n",
              "</table>\n",
              "</div>"
            ],
            "text/plain": [
              "   overall vote  verified   reviewTime      reviewerID        asin  \\\n",
              "0        5    2     False  11 27, 2013  A3NHUQ33CFH3VM  1118461304   \n",
              "1        5  NaN     False   11 1, 2013  A3SK6VNBQDNBJE  1118461304   \n",
              "2        5  NaN     False  10 10, 2013  A3SOFHUR27FO3K  1118461304   \n",
              "3        5  NaN     False   10 9, 2013  A1HOG1PYCAE157  1118461304   \n",
              "4        5   10     False   09 7, 2013  A26JGAM6GZMM4V  1118461304   \n",
              "\n",
              "               reviewerName  \\\n",
              "0                    Greeny   \n",
              "1           Leif C. Ulstrup   \n",
              "2  Harry Gilbert Miller III   \n",
              "3            Rebecca Ripley   \n",
              "4             Robert Morris   \n",
              "\n",
              "                                          reviewText  \\\n",
              "0  Not one thing in this book seemed an obvious o...   \n",
              "1  I have enjoyed Dr. Alan Gregerman's weekly blo...   \n",
              "2  Alan Gregerman believes that innovation comes ...   \n",
              "3  Alan Gregerman is a smart, funny, entertaining...   \n",
              "4  As I began to read this book, I was again remi...   \n",
              "\n",
              "                                             summary  \n",
              "0                  Clear on what leads to innovation  \n",
              "1  Becoming more innovative by opening yourself t...  \n",
              "2              The World from Different Perspectives  \n",
              "3                Strangers are Your New Best Friends  \n",
              "4  How and why it is imperative to engage, learn ...  "
            ]
          },
          "execution_count": 5,
          "metadata": {},
          "output_type": "execute_result"
        }
      ],
      "source": [
        "df2.astype(str).drop_duplicates(inplace=True)\n",
        "df2.head()"
      ]
    },
    {
      "cell_type": "markdown",
      "id": "fa62381e",
      "metadata": {
        "id": "fa62381e"
      },
      "source": [
        "### 2. Tiền xử lý dữ liệu sơ lược (như amazon_preprocessing.ipynb)"
      ]
    },
    {
      "cell_type": "code",
      "execution_count": null,
      "id": "e842fbd0",
      "metadata": {
        "id": "e842fbd0"
      },
      "outputs": [],
      "source": [
        "def clean_price(price):\n",
        "    try:\n",
        "        return float(price.replace('$', '').replace(',', '').strip())\n",
        "    except:\n",
        "        return np.nan\n",
        "\n",
        "df['price'] = df['price'].apply(clean_price)\n",
        "df['date'] = pd.to_datetime(df['date'], errors='coerce')"
      ]
    },
    {
      "cell_type": "code",
      "execution_count": null,
      "id": "89f2e401",
      "metadata": {
        "id": "89f2e401"
      },
      "outputs": [],
      "source": [
        "df2['reviewTime'] = pd.to_datetime(df2['reviewTime'], errors='coerce')\n",
        "\n",
        "# Xoá dòng bị thiếu asin hoặc reviewerID\n",
        "df2 = df2.dropna(subset=['asin', 'reviewerID'])\n",
        "\n",
        "# Rating dạng Float\n",
        "df2['overall'] = df2['overall'].astype(float)"
      ]
    },
    {
      "cell_type": "markdown",
      "id": "026cbbab",
      "metadata": {
        "id": "026cbbab"
      },
      "source": [
        "### 3. Merge 2 dataframe lại"
      ]
    },
    {
      "cell_type": "code",
      "execution_count": null,
      "id": "49d4aed7",
      "metadata": {
        "id": "49d4aed7"
      },
      "outputs": [],
      "source": [
        "df_merged = df2.merge(df[['asin', 'title', 'brand', 'price']], on='asin', how='left')\n",
        "\n",
        "user_encoder = LabelEncoder()\n",
        "item_encoder = LabelEncoder()\n",
        "\n",
        "df_merged['user'] = user_encoder.fit_transform(df_merged['reviewerID'])\n",
        "df_merged['item'] = item_encoder.fit_transform(df_merged['asin'])\n",
        "\n",
        "# Tạo interaction dataset\n",
        "interactions = df_merged[['user', 'item', 'overall']]\n",
        "interactions = interactions[interactions['user'] < 150000]"
      ]
    },
    {
      "cell_type": "markdown",
      "id": "3a87053e",
      "metadata": {
        "id": "3a87053e"
      },
      "source": [
        "### 4. Reccomendation System Using Deep Learning"
      ]
    },
    {
      "cell_type": "markdown",
      "id": "ece1165b",
      "metadata": {
        "id": "ece1165b"
      },
      "source": [
        "#### 4.1. Mô hình 1: GNN, cụ thể hơn là sử dụng LightGCN (Light Graph Convolution Network)"
      ]
    },
    {
      "cell_type": "markdown",
      "id": "f7e9347c",
      "metadata": {
        "id": "f7e9347c"
      },
      "source": [
        "#### 4.1.1. Chuẩn bị data"
      ]
    },
    {
      "cell_type": "code",
      "execution_count": null,
      "id": "abbc8757",
      "metadata": {
        "id": "abbc8757"
      },
      "outputs": [],
      "source": [
        "user_ids = interactions['user'].unique()\n",
        "user_map = {uid: idx for idx, uid in enumerate(user_ids)}\n",
        "\n",
        "item_ids = interactions['item'].unique()\n",
        "item_map = {iid: idx for idx, iid in enumerate(item_ids)}\n",
        "\n",
        "num_users = len(user_map)\n",
        "num_items = len(item_map)\n",
        "\n",
        "interactions['user_id'] = interactions['user'].map(user_map)\n",
        "interactions['item_id'] = interactions['item'].map(item_map)"
      ]
    },
    {
      "cell_type": "markdown",
      "id": "2c7e8532",
      "metadata": {
        "id": "2c7e8532"
      },
      "source": [
        "#### 4.1.2. Tạo interaction matrix"
      ]
    },
    {
      "cell_type": "code",
      "execution_count": null,
      "id": "161dcb2e",
      "metadata": {
        "id": "161dcb2e"
      },
      "outputs": [],
      "source": [
        "interaction_matrix = torch.zeros((num_users, num_items))\n",
        "for row in interactions.itertuples():\n",
        "    u = user_map[row.user]\n",
        "    i = item_map[row.item]\n",
        "    interaction_matrix[u, i] = row.overall"
      ]
    },
    {
      "cell_type": "markdown",
      "id": "a8e1441b",
      "metadata": {
        "id": "a8e1441b"
      },
      "source": [
        "#### 4.1.3. Xây dựng mô hình LightGCN"
      ]
    },
    {
      "cell_type": "code",
      "execution_count": null,
      "id": "98ec3c85",
      "metadata": {
        "id": "98ec3c85",
        "outputId": "ebe430bc-c1aa-4c8e-ef52-a69cb768ac27"
      },
      "outputs": [
        {
          "data": {
            "text/plain": [
              "tensor([[-0.0016,  0.0155,  0.0170,  ...,  0.0245,  0.0010, -0.0054],\n",
              "        [ 0.0061,  0.0138,  0.0155,  ..., -0.0010, -0.0120, -0.0074],\n",
              "        [-0.0048,  0.0068,  0.0044,  ...,  0.0057,  0.0168,  0.0079],\n",
              "        ...,\n",
              "        [-0.0062,  0.0052, -0.0037,  ...,  0.0102,  0.0025, -0.0084],\n",
              "        [ 0.0130,  0.0041,  0.0137,  ...,  0.0055,  0.0013,  0.0009],\n",
              "        [-0.0002, -0.0059, -0.0124,  ...,  0.0020, -0.0156,  0.0058]])"
            ]
          },
          "execution_count": 11,
          "metadata": {},
          "output_type": "execute_result"
        }
      ],
      "source": [
        "# Creating edge list\n",
        "edge_index = []\n",
        "for row in interactions.itertuples():\n",
        "    u = user_map[row.user]\n",
        "    i = item_map[row.item]\n",
        "    edge_index.append([u, num_users + i])\n",
        "    edge_index.append([num_users+ i, u])\n",
        "\n",
        "edge_index = torch.tensor(edge_index).t().contiguous()\n",
        "num_nodes = num_users + num_items\n",
        "\n",
        "# Creating embedding\n",
        "embedding_dim = 32\n",
        "x = nn.Embedding(num_nodes, embedding_dim)\n",
        "x.weight.data.normal_(0, 0.01)"
      ]
    },
    {
      "cell_type": "code",
      "execution_count": null,
      "id": "1b7e61d2",
      "metadata": {
        "id": "1b7e61d2"
      },
      "outputs": [],
      "source": [
        "class LightGCN(nn.Module):\n",
        "    def __init__(self, num_nodes, emb_dim):\n",
        "        super().__init__()\n",
        "        self.emb = nn.Embedding(num_nodes, emb_dim)\n",
        "        nn.init.xavier_uniform_(self.emb.weight)\n",
        "\n",
        "    def forward(self, edge_index):\n",
        "        x = self.emb.weight\n",
        "        row, col = edge_index\n",
        "        deg = torch.bincount(row, minlength=x.size(0)).float().clamp(min=1)\n",
        "        norm = 1.0 / deg[row].sqrt() * 1.0 / deg[col].sqrt()\n",
        "        out = torch.zeros_like(x)\n",
        "        out.index_add_(0, row, x[col] * norm.unsqueeze(1))\n",
        "        return out"
      ]
    },
    {
      "cell_type": "markdown",
      "id": "123cd4b7",
      "metadata": {
        "id": "123cd4b7"
      },
      "source": [
        "#### 4.1.4. Train mô hình"
      ]
    },
    {
      "cell_type": "code",
      "execution_count": null,
      "id": "26eb1e63",
      "metadata": {
        "id": "26eb1e63",
        "outputId": "a64624a9-6077-4cea-d252-74fa0521bcf9"
      },
      "outputs": [
        {
          "name": "stdout",
          "output_type": "stream",
          "text": [
            "Epoch 0: Loss = 3.4842\n",
            "Epoch 1: Loss = 2.7830\n",
            "Epoch 2: Loss = 1.8382\n",
            "Epoch 3: Loss = 1.4363\n",
            "Epoch 4: Loss = 1.1222\n",
            "Epoch 5: Loss = 0.8001\n",
            "Epoch 6: Loss = 0.9206\n",
            "Epoch 7: Loss = 1.0229\n",
            "Epoch 8: Loss = 0.9828\n",
            "Epoch 9: Loss = 0.9521\n"
          ]
        }
      ],
      "source": [
        "model_gnn = LightGCN(num_nodes, embedding_dim)\n",
        "optimizer = torch.optim.Adam(model_gnn.parameters(), lr=1e-3)\n",
        "for epoch in range(10):\n",
        "    model_gnn.train()\n",
        "    optimizer.zero_grad()\n",
        "    emb = model_gnn(edge_index)\n",
        "    loss = torch.norm(emb)\n",
        "    loss.backward()\n",
        "    optimizer.step()\n",
        "    print(f\"Epoch {epoch}: Loss = {loss.item():.4f}\")"
      ]
    },
    {
      "cell_type": "markdown",
      "id": "4cdd2f34",
      "metadata": {
        "id": "4cdd2f34"
      },
      "source": [
        "#### 4.1.5. Áp dụng mô hình vào train data và trả kết quả đề xuất, giả sử ta lấy reviewerID là \"A1HOG1PYCAE157\""
      ]
    },
    {
      "cell_type": "code",
      "execution_count": null,
      "id": "314b873a",
      "metadata": {
        "id": "314b873a"
      },
      "outputs": [],
      "source": [
        "def recommend_for_reviewerID_GNN(ReviewerID, model, edge_index, user_map, item_map, df, item_encoder, user_encoder):\n",
        "    if ReviewerID not in user_encoder.classes_:\n",
        "        print(f\"ReviewerID {ReviewerID} does not exist!\")\n",
        "        return None\n",
        "\n",
        "    user_id_full = user_encoder.transform([ReviewerID])[0]\n",
        "\n",
        "    if user_id_full not in user_map:\n",
        "        return None\n",
        "    user_id = user_map[user_id_full]\n",
        "\n",
        "    # Calculate embedding from GNN\n",
        "    model.eval()\n",
        "    with torch.no_grad():\n",
        "        x = model(edge_index)\n",
        "        user_emb = x[:len(user_map)]\n",
        "        item_emb = x[len(user_map):]\n",
        "\n",
        "        scores = (user_emb[user_id] @ item_emb.T).cpu().numpy()\n",
        "        top_items = np.argsort(scores)[-5:][::-1]\n",
        "\n",
        "    inv_item_map = {v: k for k, v in item_map.items()}\n",
        "    recommended_item_ids = [inv_item_map[i] for i in top_items]\n",
        "    recommended_asins = item_encoder.inverse_transform(recommended_item_ids)\n",
        "\n",
        "    recommended_products = df[df['asin'].isin(recommended_asins)][['category','title', 'brand', 'price']].drop_duplicates()\n",
        "    print(f\"Recommendation for ReviewerID: {ReviewerID}\")\n",
        "    return recommended_products.reset_index(drop=True)\n"
      ]
    },
    {
      "cell_type": "code",
      "execution_count": null,
      "id": "629ab17b",
      "metadata": {
        "id": "629ab17b",
        "outputId": "59e3d40e-59ec-4b54-b172-141432089f38"
      },
      "outputs": [
        {
          "name": "stdout",
          "output_type": "stream",
          "text": [
            "Recommendation for ReviewerID: A1HOG1PYCAE157\n"
          ]
        },
        {
          "data": {
            "text/html": [
              "<div>\n",
              "<style scoped>\n",
              "    .dataframe tbody tr th:only-of-type {\n",
              "        vertical-align: middle;\n",
              "    }\n",
              "\n",
              "    .dataframe tbody tr th {\n",
              "        vertical-align: top;\n",
              "    }\n",
              "\n",
              "    .dataframe thead th {\n",
              "        text-align: right;\n",
              "    }\n",
              "</style>\n",
              "<table border=\"1\" class=\"dataframe\">\n",
              "  <thead>\n",
              "    <tr style=\"text-align: right;\">\n",
              "      <th></th>\n",
              "      <th>category</th>\n",
              "      <th>title</th>\n",
              "      <th>brand</th>\n",
              "      <th>price</th>\n",
              "    </tr>\n",
              "  </thead>\n",
              "  <tbody>\n",
              "    <tr>\n",
              "      <th>0</th>\n",
              "      <td>Appliances, Parts &amp; Accessories</td>\n",
              "      <td>Holmes &amp;quot;A&amp;quot; Humidifier Filter, HWF62</td>\n",
              "      <td>Holmes</td>\n",
              "      <td>11.89</td>\n",
              "    </tr>\n",
              "    <tr>\n",
              "      <th>1</th>\n",
              "      <td>Appliances, Parts &amp;amp; Accessories, Range Par...</td>\n",
              "      <td>Range Kleen P10124XN, Black, Style A Porcelain...</td>\n",
              "      <td>Range Kleen</td>\n",
              "      <td>19.97</td>\n",
              "    </tr>\n",
              "    <tr>\n",
              "      <th>2</th>\n",
              "      <td>Appliances, Ranges, Ovens &amp; Cooktops</td>\n",
              "      <td>Disney Ariel Little Mermaid Birthday Party Sce...</td>\n",
              "      <td>Amscan</td>\n",
              "      <td>NaN</td>\n",
              "    </tr>\n",
              "    <tr>\n",
              "      <th>3</th>\n",
              "      <td>Appliances, Parts &amp; Accessories, Refrigerator ...</td>\n",
              "      <td>EcoAqua DA29-00020B Replacement for Samsung Wa...</td>\n",
              "      <td>EcoAqua</td>\n",
              "      <td>30.99</td>\n",
              "    </tr>\n",
              "    <tr>\n",
              "      <th>4</th>\n",
              "      <td>Appliances, Parts &amp; Accessories, Refrigerator ...</td>\n",
              "      <td>GE MWF SmartWater Compatible Water Filter Cart...</td>\n",
              "      <td>Waterfall Filter</td>\n",
              "      <td>17.99</td>\n",
              "    </tr>\n",
              "  </tbody>\n",
              "</table>\n",
              "</div>"
            ],
            "text/plain": [
              "                                            category  \\\n",
              "0                    Appliances, Parts & Accessories   \n",
              "1  Appliances, Parts &amp; Accessories, Range Par...   \n",
              "2               Appliances, Ranges, Ovens & Cooktops   \n",
              "3  Appliances, Parts & Accessories, Refrigerator ...   \n",
              "4  Appliances, Parts & Accessories, Refrigerator ...   \n",
              "\n",
              "                                               title             brand  price  \n",
              "0      Holmes &quot;A&quot; Humidifier Filter, HWF62            Holmes  11.89  \n",
              "1  Range Kleen P10124XN, Black, Style A Porcelain...       Range Kleen  19.97  \n",
              "2  Disney Ariel Little Mermaid Birthday Party Sce...            Amscan    NaN  \n",
              "3  EcoAqua DA29-00020B Replacement for Samsung Wa...           EcoAqua  30.99  \n",
              "4  GE MWF SmartWater Compatible Water Filter Cart...  Waterfall Filter  17.99  "
            ]
          },
          "execution_count": 15,
          "metadata": {},
          "output_type": "execute_result"
        }
      ],
      "source": [
        "recommend_for_reviewerID_GNN(\"A1HOG1PYCAE157\", model_gnn, edge_index, user_map, item_map, df, item_encoder, user_encoder)"
      ]
    },
    {
      "cell_type": "markdown",
      "id": "665cd20b",
      "metadata": {
        "id": "665cd20b"
      },
      "source": [
        "#### 4.2. Mô hình 2: Neural Collaborative Filtering (NCF)"
      ]
    },
    {
      "cell_type": "markdown",
      "id": "008f8af4",
      "metadata": {
        "id": "008f8af4"
      },
      "source": [
        "#### 4.2.1. Chuẩn bị tensor train"
      ]
    },
    {
      "cell_type": "code",
      "execution_count": null,
      "id": "63dbefae",
      "metadata": {
        "id": "63dbefae"
      },
      "outputs": [],
      "source": [
        "user_tensor = torch.tensor(interactions['user_id'].values)\n",
        "item_tensor = torch.tensor(interactions['item_id'].values)\n",
        "rating_tensor = torch.tensor(interactions['overall'].values).float()\n",
        "\n",
        "batch_size = 512\n",
        "train_ds = TensorDataset(user_tensor, item_tensor, rating_tensor)\n",
        "train_loader = DataLoader(train_ds, batch_size=batch_size, shuffle=True)"
      ]
    },
    {
      "cell_type": "markdown",
      "id": "1acaf61d",
      "metadata": {
        "id": "1acaf61d"
      },
      "source": [
        "#### 4.2.2. Xây dựng mô hình NCF"
      ]
    },
    {
      "cell_type": "code",
      "execution_count": null,
      "id": "c56e815f",
      "metadata": {
        "id": "c56e815f"
      },
      "outputs": [],
      "source": [
        "class NCF(nn.Module):\n",
        "    def __init__(self, num_users, num_items, embedding_dim=32):\n",
        "        super().__init__()\n",
        "        self.user_emb = nn.Embedding(num_users, embedding_dim)\n",
        "        self.item_emb = nn.Embedding(num_items, embedding_dim)\n",
        "        self.mlp = nn.Sequential(\n",
        "            nn.Linear(embedding_dim * 2, 64),\n",
        "            nn.ReLU(),\n",
        "            nn.Linear(64, 1)\n",
        "        )\n",
        "\n",
        "    def forward(self, user, item):\n",
        "        u = self.user_emb(user)\n",
        "        i = self.item_emb(item)\n",
        "        x = torch.cat([u, i], dim=-1)\n",
        "        return self.mlp(x).squeeze(-1)"
      ]
    },
    {
      "cell_type": "markdown",
      "id": "3a17a549",
      "metadata": {
        "id": "3a17a549"
      },
      "source": [
        "#### 4.2.3. Train mô hình"
      ]
    },
    {
      "cell_type": "code",
      "execution_count": null,
      "id": "c0069aef",
      "metadata": {
        "id": "c0069aef",
        "outputId": "5cdde2c1-aa01-43de-e4ff-91248db6ae7b"
      },
      "outputs": [
        {
          "name": "stdout",
          "output_type": "stream",
          "text": [
            "Epoch 0 | Loss: 6.9848\n",
            "Epoch 1 | Loss: 1.8809\n",
            "Epoch 2 | Loss: 1.7401\n",
            "Epoch 3 | Loss: 1.6427\n",
            "Epoch 4 | Loss: 1.5553\n"
          ]
        }
      ],
      "source": [
        "model_ncf = NCF(num_users, num_items)\n",
        "optimizer = torch.optim.Adam(model_ncf.parameters(), lr=0.001)\n",
        "loss_fn = nn.MSELoss()\n",
        "\n",
        "for epoch in range(5):\n",
        "    total_loss = 0\n",
        "    model_ncf.train()\n",
        "    for user, item, rating in train_loader:\n",
        "        pred = model_ncf(user, item)\n",
        "        loss = loss_fn(pred, rating)\n",
        "\n",
        "        optimizer.zero_grad()\n",
        "        loss.backward()\n",
        "        optimizer.step()\n",
        "        total_loss += loss.item()\n",
        "    print(f\"Epoch {epoch} | Loss: {total_loss / len(train_loader):.4f}\")"
      ]
    },
    {
      "cell_type": "markdown",
      "id": "98f8447c",
      "metadata": {
        "id": "98f8447c"
      },
      "source": [
        "#### 4.2.4. Áp dụng mô hình vào train data và trả kết quả đề xuất, giả sử ta lấy reviewerID là \"A1HOG1PYCAE157\""
      ]
    },
    {
      "cell_type": "code",
      "execution_count": null,
      "id": "e8057764",
      "metadata": {
        "id": "e8057764"
      },
      "outputs": [],
      "source": [
        "def recommend_for_reviewerID_NCF(ReviewerID, model, df, item_encoder, user_encoder):\n",
        "    if ReviewerID not in user_encoder.classes_:\n",
        "        print(f\"ReviewerID {ReviewerID} does not exist!\")\n",
        "        return None\n",
        "\n",
        "    user_id = user_encoder.transform([ReviewerID])[0]\n",
        "    num_items = len(item_map)\n",
        "\n",
        "    user_tensor = torch.tensor([user_id] * num_items)\n",
        "    item_tensor = torch.arange(num_items)\n",
        "\n",
        "    with torch.no_grad():\n",
        "        scores = model(user_tensor, item_tensor).numpy()\n",
        "    top_items = scores.argsort()[-5:][::-1]\n",
        "    recommended_asins = item_encoder.inverse_transform(top_items)\n",
        "\n",
        "    # Lấy thông tin sản phẩm từ df\n",
        "    recommended_products = df[df['asin'].isin(recommended_asins)][['category', 'title', 'brand', 'price']].drop_duplicates()\n",
        "\n",
        "    print(f\"Recommendation for reviewerID: {ReviewerID}\")\n",
        "    return recommended_products.reset_index(drop=True)"
      ]
    },
    {
      "cell_type": "code",
      "execution_count": null,
      "id": "a0ac5ad9",
      "metadata": {
        "id": "a0ac5ad9",
        "outputId": "35aed862-f26d-4193-9bfd-d9b750c93b90"
      },
      "outputs": [
        {
          "name": "stdout",
          "output_type": "stream",
          "text": [
            "Recommendation for reviewerID: A1HOG1PYCAE157\n"
          ]
        },
        {
          "data": {
            "text/html": [
              "<div>\n",
              "<style scoped>\n",
              "    .dataframe tbody tr th:only-of-type {\n",
              "        vertical-align: middle;\n",
              "    }\n",
              "\n",
              "    .dataframe tbody tr th {\n",
              "        vertical-align: top;\n",
              "    }\n",
              "\n",
              "    .dataframe thead th {\n",
              "        text-align: right;\n",
              "    }\n",
              "</style>\n",
              "<table border=\"1\" class=\"dataframe\">\n",
              "  <thead>\n",
              "    <tr style=\"text-align: right;\">\n",
              "      <th></th>\n",
              "      <th>category</th>\n",
              "      <th>title</th>\n",
              "      <th>brand</th>\n",
              "      <th>price</th>\n",
              "    </tr>\n",
              "  </thead>\n",
              "  <tbody>\n",
              "    <tr>\n",
              "      <th>0</th>\n",
              "      <td>Appliances, Ranges, Ovens &amp; Cooktops, Ranges, ...</td>\n",
              "      <td>Premier : SCK240O 24 inch Compact Gas Range w/...</td>\n",
              "      <td>Premier</td>\n",
              "      <td>NaN</td>\n",
              "    </tr>\n",
              "    <tr>\n",
              "      <th>1</th>\n",
              "      <td>Appliances, Ranges, Ovens &amp; Cooktops, Cooktops</td>\n",
              "      <td>Kenyon B41603 6-1/2 and 8-Inch Arctic 2-Burner...</td>\n",
              "      <td>Kenyon</td>\n",
              "      <td>31.39</td>\n",
              "    </tr>\n",
              "    <tr>\n",
              "      <th>2</th>\n",
              "      <td>Appliances, Parts &amp; Accessories, Washer Parts ...</td>\n",
              "      <td>22001025 Maytag Washer Timer</td>\n",
              "      <td>Maytag</td>\n",
              "      <td>NaN</td>\n",
              "    </tr>\n",
              "    <tr>\n",
              "      <th>3</th>\n",
              "      <td>Appliances, Parts &amp; Accessories, Washer Parts ...</td>\n",
              "      <td>LG Electronics 4323EA2001C Washing Machine Cou...</td>\n",
              "      <td>LG</td>\n",
              "      <td>15.93</td>\n",
              "    </tr>\n",
              "    <tr>\n",
              "      <th>4</th>\n",
              "      <td>Appliances, Ranges, Ovens &amp; Cooktops, Range Hoods</td>\n",
              "      <td>Z Line GL5i-30 Stainless Steel and Glass Islan...</td>\n",
              "      <td>ZLINE</td>\n",
              "      <td>79.98</td>\n",
              "    </tr>\n",
              "  </tbody>\n",
              "</table>\n",
              "</div>"
            ],
            "text/plain": [
              "                                            category  \\\n",
              "0  Appliances, Ranges, Ovens & Cooktops, Ranges, ...   \n",
              "1     Appliances, Ranges, Ovens & Cooktops, Cooktops   \n",
              "2  Appliances, Parts & Accessories, Washer Parts ...   \n",
              "3  Appliances, Parts & Accessories, Washer Parts ...   \n",
              "4  Appliances, Ranges, Ovens & Cooktops, Range Hoods   \n",
              "\n",
              "                                               title    brand  price  \n",
              "0  Premier : SCK240O 24 inch Compact Gas Range w/...  Premier    NaN  \n",
              "1  Kenyon B41603 6-1/2 and 8-Inch Arctic 2-Burner...   Kenyon  31.39  \n",
              "2                       22001025 Maytag Washer Timer   Maytag    NaN  \n",
              "3  LG Electronics 4323EA2001C Washing Machine Cou...       LG  15.93  \n",
              "4  Z Line GL5i-30 Stainless Steel and Glass Islan...    ZLINE  79.98  "
            ]
          },
          "execution_count": 59,
          "metadata": {},
          "output_type": "execute_result"
        }
      ],
      "source": [
        "recommend_for_reviewerID_NCF(\"A1HOG1PYCAE157\", model_ncf, df, item_encoder, user_encoder)"
      ]
    },
    {
      "cell_type": "markdown",
      "id": "8a8b0a93",
      "metadata": {
        "id": "8a8b0a93"
      },
      "source": [
        "### 4.3. Mô hình 3: Matrix Factorization (MF)"
      ]
    },
    {
      "cell_type": "markdown",
      "id": "e2683713",
      "metadata": {
        "id": "e2683713"
      },
      "source": [
        "#### 4.3.1. Xây dựng mô hình MF"
      ]
    },
    {
      "cell_type": "code",
      "execution_count": null,
      "id": "9a111130",
      "metadata": {
        "id": "9a111130"
      },
      "outputs": [],
      "source": [
        "class MF(nn.Module):\n",
        "    def __init__(self, num_users, num_items, embedding_dim=32):\n",
        "        super().__init__()\n",
        "        self.user_emb = nn.Embedding(num_users, embedding_dim)\n",
        "        self.item_emb = nn.Embedding(num_items, embedding_dim)\n",
        "\n",
        "    def forward(self, user, item):\n",
        "        u = self.user_emb(user)\n",
        "        i = self.item_emb(item)\n",
        "        out = (u * i).sum(dim=1)\n",
        "        return torch.clamp(out, min=1.0, max=5.0)"
      ]
    },
    {
      "cell_type": "markdown",
      "id": "1adc7c2b",
      "metadata": {
        "id": "1adc7c2b"
      },
      "source": [
        "#### 4.3.2. Train mô hình"
      ]
    },
    {
      "cell_type": "code",
      "execution_count": null,
      "id": "f58c13e4",
      "metadata": {
        "id": "f58c13e4",
        "outputId": "3b519726-1f79-4120-e3da-22986837a598"
      },
      "outputs": [
        {
          "name": "stdout",
          "output_type": "stream",
          "text": [
            "Epoch 0 | Loss: 8.6895\n",
            "Epoch 1 | Loss: 8.3567\n",
            "Epoch 2 | Loss: 8.0733\n",
            "Epoch 3 | Loss: 7.8642\n",
            "Epoch 4 | Loss: 7.6993\n"
          ]
        }
      ],
      "source": [
        "model_mf = MF(num_users, num_items)\n",
        "optimizer = torch.optim.Adam(model_mf.parameters(), lr=0.001)\n",
        "loss_fn = nn.MSELoss()\n",
        "\n",
        "for epoch in range(5):\n",
        "    total_loss = 0\n",
        "    for user, item, rating in train_loader:\n",
        "        pred = model_mf(user, item)\n",
        "        loss = loss_fn(pred, rating)\n",
        "\n",
        "        optimizer.zero_grad()\n",
        "        loss.backward()\n",
        "        optimizer.step()\n",
        "        total_loss += loss.item()\n",
        "\n",
        "    print(f\"Epoch {epoch} | Loss: {total_loss / len(train_loader):.4f}\")"
      ]
    },
    {
      "cell_type": "markdown",
      "id": "31ec3280",
      "metadata": {
        "id": "31ec3280"
      },
      "source": [
        "#### 4.3.3. Áp dụng mô hình vào train data và trả kết quả đề xuất, giả sử ta lấy reviewerID là \"A1HOG1PYCAE157\""
      ]
    },
    {
      "cell_type": "code",
      "execution_count": null,
      "id": "e600ff82",
      "metadata": {
        "id": "e600ff82"
      },
      "outputs": [],
      "source": [
        "def recommend_for_reviewerID_MF(ReviewerID, model_mf, df, item_encoder, user_encoder):\n",
        "    if ReviewerID not in user_encoder.classes_:\n",
        "        print(f\"ReviewerID {ReviewerID} does not exist!\")\n",
        "        return None\n",
        "\n",
        "    user_id = user_encoder.transform([ReviewerID])[0]\n",
        "    user_tensor = torch.tensor([user_id] * num_items)\n",
        "    item_tensor = torch.arange(num_items)\n",
        "\n",
        "    with torch.no_grad():\n",
        "        scores = model_mf(user_tensor, item_tensor).numpy()\n",
        "\n",
        "    top_items = scores.argsort()[-5:][::-1]\n",
        "    recommended_asins = item_encoder.inverse_transform(top_items)\n",
        "\n",
        "    recommended_products = df[df['asin'].isin(recommended_asins)][['category', 'title', 'brand', 'price']].drop_duplicates()\n",
        "    print(f\"Recommendation for reviewerID: {ReviewerID}\")\n",
        "    return recommended_products.reset_index(drop=True)"
      ]
    },
    {
      "cell_type": "code",
      "execution_count": null,
      "id": "5d30ca62",
      "metadata": {
        "id": "5d30ca62",
        "outputId": "7fffc083-6f40-4f0b-9271-308bd926e7a2"
      },
      "outputs": [
        {
          "name": "stdout",
          "output_type": "stream",
          "text": [
            "Recommendation for reviewerID: A1HOG1PYCAE157\n"
          ]
        },
        {
          "data": {
            "text/html": [
              "<div>\n",
              "<style scoped>\n",
              "    .dataframe tbody tr th:only-of-type {\n",
              "        vertical-align: middle;\n",
              "    }\n",
              "\n",
              "    .dataframe tbody tr th {\n",
              "        vertical-align: top;\n",
              "    }\n",
              "\n",
              "    .dataframe thead th {\n",
              "        text-align: right;\n",
              "    }\n",
              "</style>\n",
              "<table border=\"1\" class=\"dataframe\">\n",
              "  <thead>\n",
              "    <tr style=\"text-align: right;\">\n",
              "      <th></th>\n",
              "      <th>category</th>\n",
              "      <th>title</th>\n",
              "      <th>brand</th>\n",
              "      <th>price</th>\n",
              "    </tr>\n",
              "  </thead>\n",
              "  <tbody>\n",
              "    <tr>\n",
              "      <th>0</th>\n",
              "      <td>Appliances, Parts &amp; Accessories, Range Parts &amp;...</td>\n",
              "      <td>GE WB13K21 RANGE OVEN IGNITER</td>\n",
              "      <td>GE</td>\n",
              "      <td>31.95</td>\n",
              "    </tr>\n",
              "    <tr>\n",
              "      <th>1</th>\n",
              "      <td>Appliances, Parts &amp; Accessories, Range Parts &amp;...</td>\n",
              "      <td>Whirlpool Part Number W10273816: RACK, HALF</td>\n",
              "      <td>Whirlpool</td>\n",
              "      <td>NaN</td>\n",
              "    </tr>\n",
              "    <tr>\n",
              "      <th>2</th>\n",
              "      <td>Appliances, Parts &amp; Accessories, Freezer Parts...</td>\n",
              "      <td>LG Electronics 4987JJ1010L Freezer Door Gasket...</td>\n",
              "      <td>LG</td>\n",
              "      <td>82.75</td>\n",
              "    </tr>\n",
              "    <tr>\n",
              "      <th>3</th>\n",
              "      <td>Appliances, Parts &amp; Accessories, Washer Parts ...</td>\n",
              "      <td>LG Electronics 4986ER0004G Washing Machine Doo...</td>\n",
              "      <td>LG</td>\n",
              "      <td>70.86</td>\n",
              "    </tr>\n",
              "    <tr>\n",
              "      <th>4</th>\n",
              "      <td>Appliances, Parts &amp; Accessories, Refrigerator ...</td>\n",
              "      <td>LG Electronics 6748C-0004D Refrigerator Start ...</td>\n",
              "      <td>LG</td>\n",
              "      <td>9.99</td>\n",
              "    </tr>\n",
              "  </tbody>\n",
              "</table>\n",
              "</div>"
            ],
            "text/plain": [
              "                                            category  \\\n",
              "0  Appliances, Parts & Accessories, Range Parts &...   \n",
              "1  Appliances, Parts & Accessories, Range Parts &...   \n",
              "2  Appliances, Parts & Accessories, Freezer Parts...   \n",
              "3  Appliances, Parts & Accessories, Washer Parts ...   \n",
              "4  Appliances, Parts & Accessories, Refrigerator ...   \n",
              "\n",
              "                                               title      brand  price  \n",
              "0                      GE WB13K21 RANGE OVEN IGNITER         GE  31.95  \n",
              "1        Whirlpool Part Number W10273816: RACK, HALF  Whirlpool    NaN  \n",
              "2  LG Electronics 4987JJ1010L Freezer Door Gasket...         LG  82.75  \n",
              "3  LG Electronics 4986ER0004G Washing Machine Doo...         LG  70.86  \n",
              "4  LG Electronics 6748C-0004D Refrigerator Start ...         LG   9.99  "
            ]
          },
          "execution_count": 77,
          "metadata": {},
          "output_type": "execute_result"
        }
      ],
      "source": [
        "recommend_for_reviewerID_MF(\"A1HOG1PYCAE157\", model_mf, df, item_encoder, user_encoder)"
      ]
    },
    {
      "cell_type": "markdown",
      "id": "c2d5b263",
      "metadata": {
        "id": "c2d5b263"
      },
      "source": [
        "### 4.4. Mô hình 4: Multi-layer Perceptron for Recommendation (Deep MLP)"
      ]
    },
    {
      "cell_type": "markdown",
      "id": "716bcf3c",
      "metadata": {
        "id": "716bcf3c"
      },
      "source": [
        "#### 4.4.1. Xây dựng mô hình Deep MLP"
      ]
    },
    {
      "cell_type": "code",
      "execution_count": null,
      "id": "d2faf493",
      "metadata": {
        "id": "d2faf493"
      },
      "outputs": [],
      "source": [
        "class MLPRecommender(nn.Module):\n",
        "    def __init__(self, num_users, num_items, embedding_dim=32):\n",
        "        super().__init__()\n",
        "        self.user_emb = nn.Embedding(num_users, embedding_dim)\n",
        "        self.item_emb = nn.Embedding(num_items, embedding_dim)\n",
        "\n",
        "        self.mlp = nn.Sequential(\n",
        "            nn.Linear(embedding_dim * 2, 64),\n",
        "            nn.ReLU(),\n",
        "            nn.Linear(64, 32),\n",
        "            nn.ReLU(),\n",
        "            nn.Linear(32, 1)\n",
        "        )\n",
        "\n",
        "    def forward(self, user, item):\n",
        "        u = self.user_emb(user)\n",
        "        i = self.item_emb(item)\n",
        "        x = torch.cat([u, i], dim=-1)\n",
        "        out = self.mlp(x).squeeze(-1)\n",
        "        return torch.clamp(out, min=1.0, max=5.0)"
      ]
    },
    {
      "cell_type": "markdown",
      "id": "408e94ba",
      "metadata": {
        "id": "408e94ba"
      },
      "source": [
        "#### 4.4.2. Train mô hình"
      ]
    },
    {
      "cell_type": "code",
      "execution_count": null,
      "id": "4198dbd9",
      "metadata": {
        "id": "4198dbd9",
        "outputId": "0bb3f509-fd27-4147-d607-f048d0042ba5"
      },
      "outputs": [
        {
          "name": "stdout",
          "output_type": "stream",
          "text": [
            "Epoch 0 | Loss: 12.3886\n",
            "Epoch 1 | Loss: 12.3827\n",
            "Epoch 2 | Loss: 12.3891\n",
            "Epoch 3 | Loss: 12.3931\n",
            "Epoch 4 | Loss: 12.3899\n"
          ]
        }
      ],
      "source": [
        "model_mlp = MLPRecommender(num_users, num_items)\n",
        "optimizer = torch.optim.Adam(model_mlp.parameters(), lr=0.001)\n",
        "loss_fn = nn.MSELoss()\n",
        "\n",
        "for epoch in range(5):\n",
        "    total_loss = 0\n",
        "    for user, item, rating in train_loader:\n",
        "        pred = model_mlp(user, item)\n",
        "        loss = loss_fn(pred, rating)\n",
        "\n",
        "        optimizer.zero_grad()\n",
        "        loss.backward()\n",
        "        optimizer.step()\n",
        "        total_loss += loss.item()\n",
        "\n",
        "    print(f\"Epoch {epoch} | Loss: {total_loss / len(train_loader):.4f}\")"
      ]
    },
    {
      "cell_type": "markdown",
      "id": "dcec6c91",
      "metadata": {
        "id": "dcec6c91"
      },
      "source": [
        "#### 4.4.3. Áp dụng mô hình vào train data và trả kết quả đề xuất, giả sử ta lấy reviewerID là \"A1HOG1PYCAE157\""
      ]
    },
    {
      "cell_type": "code",
      "execution_count": null,
      "id": "e5b40864",
      "metadata": {
        "id": "e5b40864"
      },
      "outputs": [],
      "source": [
        "def recommend_for_reviewerID_MLP(ReviewerID, model_mlp, df, item_encoder, user_encoder):\n",
        "    if ReviewerID not in user_encoder.classes_:\n",
        "        print(f\"ReviewerID {ReviewerID} does not exist!\")\n",
        "        return None\n",
        "\n",
        "    user_id = user_encoder.transform([ReviewerID])[0]\n",
        "    user_tensor = torch.tensor([user_id] * num_items)\n",
        "    item_tensor = torch.arange(num_items)\n",
        "\n",
        "    with torch.no_grad():\n",
        "        scores = model_mlp(user_tensor, item_tensor).numpy()\n",
        "\n",
        "    top_items = scores.argsort()[-5:][::-1]\n",
        "    recommended_asins = item_encoder.inverse_transform(top_items)\n",
        "\n",
        "    recommended_products = df[df['asin'].isin(recommended_asins)][['category', 'title', 'brand', 'price']].drop_duplicates()\n",
        "    print(f\"Recommendation for reviewerID: {ReviewerID}\")\n",
        "    return recommended_products.reset_index(drop=True)"
      ]
    },
    {
      "cell_type": "code",
      "execution_count": null,
      "id": "b059d548",
      "metadata": {
        "id": "b059d548",
        "outputId": "41213eca-be56-449f-873d-4e8197a14995"
      },
      "outputs": [
        {
          "name": "stdout",
          "output_type": "stream",
          "text": [
            "Recommendation for reviewerID: A1HOG1PYCAE157\n"
          ]
        },
        {
          "data": {
            "text/html": [
              "<div>\n",
              "<style scoped>\n",
              "    .dataframe tbody tr th:only-of-type {\n",
              "        vertical-align: middle;\n",
              "    }\n",
              "\n",
              "    .dataframe tbody tr th {\n",
              "        vertical-align: top;\n",
              "    }\n",
              "\n",
              "    .dataframe thead th {\n",
              "        text-align: right;\n",
              "    }\n",
              "</style>\n",
              "<table border=\"1\" class=\"dataframe\">\n",
              "  <thead>\n",
              "    <tr style=\"text-align: right;\">\n",
              "      <th></th>\n",
              "      <th>category</th>\n",
              "      <th>title</th>\n",
              "      <th>brand</th>\n",
              "      <th>price</th>\n",
              "    </tr>\n",
              "  </thead>\n",
              "  <tbody>\n",
              "    <tr>\n",
              "      <th>0</th>\n",
              "      <td>Appliances, Parts &amp; Accessories, Refrigerator ...</td>\n",
              "      <td>Norcold (621702) Refrigerator Heating Element</td>\n",
              "      <td>NORCOLD INC</td>\n",
              "      <td>8.17</td>\n",
              "    </tr>\n",
              "    <tr>\n",
              "      <th>1</th>\n",
              "      <td>Appliances, Parts &amp; Accessories, Dishwasher Pa...</td>\n",
              "      <td>Whirlpool Part Number 8531816: PANEL-CNTL</td>\n",
              "      <td>Whirlpool</td>\n",
              "      <td>142.95</td>\n",
              "    </tr>\n",
              "    <tr>\n",
              "      <th>2</th>\n",
              "      <td>Appliances, Parts &amp; Accessories</td>\n",
              "      <td>Whirlpool W10190961 Five Cube Infrared Sensor ...</td>\n",
              "      <td>Whirlpool</td>\n",
              "      <td>NaN</td>\n",
              "    </tr>\n",
              "    <tr>\n",
              "      <th>3</th>\n",
              "      <td>Appliances, Parts &amp; Accessories, Refrigerator ...</td>\n",
              "      <td>Whirlpool Part Number 67004412A: BUTTERTRAY</td>\n",
              "      <td>Whirlpool</td>\n",
              "      <td>NaN</td>\n",
              "    </tr>\n",
              "    <tr>\n",
              "      <th>4</th>\n",
              "      <td>Appliances, Parts &amp; Accessories, Cooktop Parts...</td>\n",
              "      <td>Scotsman 02-3866-04 Hinge</td>\n",
              "      <td>Scotsman</td>\n",
              "      <td>55.17</td>\n",
              "    </tr>\n",
              "  </tbody>\n",
              "</table>\n",
              "</div>"
            ],
            "text/plain": [
              "                                            category  \\\n",
              "0  Appliances, Parts & Accessories, Refrigerator ...   \n",
              "1  Appliances, Parts & Accessories, Dishwasher Pa...   \n",
              "2                    Appliances, Parts & Accessories   \n",
              "3  Appliances, Parts & Accessories, Refrigerator ...   \n",
              "4  Appliances, Parts & Accessories, Cooktop Parts...   \n",
              "\n",
              "                                               title        brand   price  \n",
              "0      Norcold (621702) Refrigerator Heating Element  NORCOLD INC    8.17  \n",
              "1          Whirlpool Part Number 8531816: PANEL-CNTL    Whirlpool  142.95  \n",
              "2  Whirlpool W10190961 Five Cube Infrared Sensor ...    Whirlpool     NaN  \n",
              "3        Whirlpool Part Number 67004412A: BUTTERTRAY    Whirlpool     NaN  \n",
              "4                          Scotsman 02-3866-04 Hinge     Scotsman   55.17  "
            ]
          },
          "execution_count": 53,
          "metadata": {},
          "output_type": "execute_result"
        }
      ],
      "source": [
        "recommend_for_reviewerID_MLP(\"A1HOG1PYCAE157\", model_mlp, df, item_encoder, user_encoder)"
      ]
    },
    {
      "cell_type": "markdown",
      "id": "f7c49b90",
      "metadata": {
        "id": "f7c49b90"
      },
      "source": [
        "### 5. Đánh giá hiệu suất các mô hình"
      ]
    },
    {
      "cell_type": "markdown",
      "id": "5a2026a4",
      "metadata": {
        "id": "5a2026a4"
      },
      "source": [
        "#### 5.1. Tạo các hàm đánh giá Precision@k, Recall@k và NDCG@k"
      ]
    },
    {
      "cell_type": "code",
      "execution_count": null,
      "id": "4035f78c",
      "metadata": {
        "id": "4035f78c"
      },
      "outputs": [],
      "source": [
        "def precision_at_k(pred, actual, k):\n",
        "    pred_k = pred[:k]\n",
        "    return len(set(pred_k) & set(actual)) / k\n",
        "\n",
        "def recall_at_k(pred, actual, k):\n",
        "    pred_k = pred[:k]\n",
        "    return len(set(pred_k) & set(actual)) / len(actual) if actual else 0\n",
        "\n",
        "def ndcg_at_k(pred, actual, k):\n",
        "    pred_k = pred[:k]\n",
        "    relevance = [1 if item in actual else 0 for item in pred_k]\n",
        "    return ndcg_score([relevance], [sorted(relevance, reverse=True)]) if actual else 0"
      ]
    },
    {
      "cell_type": "markdown",
      "id": "72f0afc4",
      "metadata": {
        "id": "72f0afc4"
      },
      "source": [
        "#### 5.2. Tạo các hàm tính các chỉ số predict"
      ]
    },
    {
      "cell_type": "code",
      "execution_count": null,
      "id": "cedc6b58",
      "metadata": {
        "id": "cedc6b58"
      },
      "outputs": [],
      "source": [
        "def predict_gnn(model, user, k=10):\n",
        "    model.eval()\n",
        "    with torch.no_grad():\n",
        "        x = model(edge_index)\n",
        "        user_emb = x[:num_users]\n",
        "        item_emb = x[num_users:]\n",
        "\n",
        "        user_vec = user_emb[user].unsqueeze(0)\n",
        "        scores = torch.matmul(user_vec, item_emb.T).squeeze().cpu().numpy()\n",
        "\n",
        "        if scores.ndim == 0:\n",
        "            scores = np.array([scores])\n",
        "\n",
        "    top_k = np.argsort(scores)[-k:][::-1]\n",
        "    top_scores = scores[top_k]\n",
        "    return top_k.tolist(), top_scores.tolist()\n",
        "\n",
        "def predict_ncf(model, user_id, k=10):\n",
        "    model.eval()\n",
        "    with torch.no_grad():\n",
        "        item_tensor = torch.arange(num_items)\n",
        "        user_tensor = torch.tensor([user_id] * num_items)\n",
        "        scores = model(user_tensor, item_tensor).cpu().numpy()\n",
        "        top_k = np.argsort(scores)[-k:][::-1]\n",
        "    return top_k.tolist(), scores[top_k].tolist()\n",
        "\n",
        "def predict_ae(model, user_id, k=10):\n",
        "    with torch.no_grad():\n",
        "        scores = model(interaction_matrix[user_id].unsqueeze(0)).squeeze().cpu()\n",
        "        top_k = torch.topk(scores, k).indices\n",
        "        top_scores = scores[top_k]\n",
        "    return top_k.tolist(), top_scores.tolist()\n",
        "\n",
        "\n",
        "def predict_mf(model, user, k=10):\n",
        "    return predict_ncf(model, user, k)\n",
        "\n",
        "def predict_mlp(model, user, k=10):\n",
        "    return predict_ncf(model, user, k)"
      ]
    },
    {
      "cell_type": "markdown",
      "id": "35c5657f",
      "metadata": {
        "id": "35c5657f"
      },
      "source": [
        "#### 5.3. Hàm đánh giá hiệu suất mô hình"
      ]
    },
    {
      "cell_type": "code",
      "execution_count": null,
      "id": "87751cae",
      "metadata": {
        "id": "87751cae"
      },
      "outputs": [],
      "source": [
        "def evaluate_model(name, predict_fn, model, k=10, num_users_to_eval=75000):\n",
        "    sample_users = random.sample(list(user_map.keys()), min(num_users_to_eval, len(user_map)))\n",
        "\n",
        "    precisions, recalls, ndcgs = [], [], []\n",
        "    y_true, y_pred = [], []\n",
        "\n",
        "    for user_id in sample_users:\n",
        "        if user_id not in user_map:\n",
        "            continue\n",
        "\n",
        "        uid_demo = user_map[user_id]\n",
        "        gt_items = interaction_matrix[uid_demo].nonzero(as_tuple=True)[0].tolist()\n",
        "        if not gt_items:\n",
        "            continue\n",
        "\n",
        "        pred_items, pred_scores = predict_fn(model, uid_demo, k=k)\n",
        "        precisions.append(precision_at_k(pred_items, gt_items, k))\n",
        "        recalls.append(recall_at_k(pred_items, gt_items, k))\n",
        "        ndcgs.append(ndcg_at_k(pred_items, gt_items, k))\n",
        "\n",
        "        for idx, item in enumerate(pred_items):\n",
        "            if item in gt_items:\n",
        "                y_true.append(interaction_matrix[uid_demo, item].item())\n",
        "                y_pred.append(pred_scores[idx])\n",
        "\n",
        "    rmse = root_mean_squared_error(y_true, y_pred) if y_true else None\n",
        "    mae = mean_absolute_error(y_true, y_pred) if y_true else None\n",
        "\n",
        "    return {\n",
        "        \"Model\": name,\n",
        "        \"Precision@10\": np.mean(precisions),\n",
        "        \"Recall@10\": np.mean(recalls),\n",
        "        \"NDCG@10\": np.mean(ndcgs),\n",
        "        \"RMSE\": rmse,\n",
        "        \"MAE\": mae\n",
        "    }"
      ]
    },
    {
      "cell_type": "markdown",
      "id": "bdad49e5",
      "metadata": {
        "id": "bdad49e5"
      },
      "source": [
        "#### 5.4. Trả kết quả đánh giá hiệu suất"
      ]
    },
    {
      "cell_type": "code",
      "execution_count": null,
      "id": "99adad02",
      "metadata": {
        "id": "99adad02",
        "outputId": "7954e8c7-cc99-4836-c7a0-65ae9ab3c619"
      },
      "outputs": [
        {
          "data": {
            "text/html": [
              "<div>\n",
              "<style scoped>\n",
              "    .dataframe tbody tr th:only-of-type {\n",
              "        vertical-align: middle;\n",
              "    }\n",
              "\n",
              "    .dataframe tbody tr th {\n",
              "        vertical-align: top;\n",
              "    }\n",
              "\n",
              "    .dataframe thead th {\n",
              "        text-align: right;\n",
              "    }\n",
              "</style>\n",
              "<table border=\"1\" class=\"dataframe\">\n",
              "  <thead>\n",
              "    <tr style=\"text-align: right;\">\n",
              "      <th></th>\n",
              "      <th>Model</th>\n",
              "      <th>Precision@10</th>\n",
              "      <th>Recall@10</th>\n",
              "      <th>NDCG@10</th>\n",
              "      <th>RMSE</th>\n",
              "      <th>MAE</th>\n",
              "    </tr>\n",
              "  </thead>\n",
              "  <tbody>\n",
              "    <tr>\n",
              "      <th>0</th>\n",
              "      <td>LightGCN</td>\n",
              "      <td>0.0042</td>\n",
              "      <td>0.0370</td>\n",
              "      <td>0.0355</td>\n",
              "      <td>4.3841</td>\n",
              "      <td>4.2173</td>\n",
              "    </tr>\n",
              "    <tr>\n",
              "      <th>1</th>\n",
              "      <td>NCF</td>\n",
              "      <td>0.0028</td>\n",
              "      <td>0.0210</td>\n",
              "      <td>0.0190</td>\n",
              "      <td>0.8643</td>\n",
              "      <td>0.8471</td>\n",
              "    </tr>\n",
              "    <tr>\n",
              "      <th>2</th>\n",
              "      <td>MF</td>\n",
              "      <td>0.0022</td>\n",
              "      <td>0.0170</td>\n",
              "      <td>0.0155</td>\n",
              "      <td>4.0027</td>\n",
              "      <td>3.7988</td>\n",
              "    </tr>\n",
              "    <tr>\n",
              "      <th>3</th>\n",
              "      <td>MLP</td>\n",
              "      <td>0.0025</td>\n",
              "      <td>0.0195</td>\n",
              "      <td>0.0178</td>\n",
              "      <td>0.9046</td>\n",
              "      <td>0.8867</td>\n",
              "    </tr>\n",
              "  </tbody>\n",
              "</table>\n",
              "</div>"
            ],
            "text/plain": [
              "      Model  Precision@10  Recall@10  NDCG@10    RMSE     MAE\n",
              "0  LightGCN        0.0042     0.0370   0.0355  4.3841  4.2173\n",
              "1       NCF        0.0028     0.0210   0.0190  0.8643  0.8471\n",
              "2        MF        0.0022     0.0170   0.0155  4.0027  3.7988\n",
              "3       MLP        0.0025     0.0195   0.0178  0.9046  0.8867"
            ]
          },
          "execution_count": 28,
          "metadata": {},
          "output_type": "execute_result"
        }
      ],
      "source": [
        "results = []\n",
        "results.append(evaluate_model(\"LightGCN\", predict_gnn, model_gnn, k=10, num_users_to_eval=75000))\n",
        "results.append(evaluate_model(\"NCF\", predict_ncf, model_ncf, k=10, num_users_to_eval=75000))\n",
        "results.append(evaluate_model(\"MF\", predict_mf, model_mf, k=10, num_users_to_eval=75000))\n",
        "results.append(evaluate_model(\"MLP\", predict_mlp, model_mlp, k=10, num_users_to_eval=75000))\n",
        "\n",
        "result_df = pd.DataFrame(results)\n",
        "result_df"
      ]
    },
    {
      "cell_type": "markdown",
      "id": "e2936e39",
      "metadata": {
        "id": "e2936e39"
      },
      "source": [
        "#### 5.5. So sánh Ranking Metric của các model"
      ]
    },
    {
      "cell_type": "code",
      "execution_count": null,
      "id": "b8f94c29",
      "metadata": {
        "id": "b8f94c29",
        "outputId": "c827814a-db07-4316-e88b-826f6da07acc"
      },
      "outputs": [
        {
          "data": {
            "image/png": "[encoded data removed]",
            "text/plain": [
              "<Figure size 1000x600 with 1 Axes>"
            ]
          },
          "metadata": {},
          "output_type": "display_data"
        }
      ],
      "source": [
        "result_df.plot(x=\"Model\", y=[\"Precision@10\", \"Recall@10\", \"NDCG@10\"], kind=\"bar\", figsize=(10, 6))\n",
        "\n",
        "plt.title(\"Ranking Metrics Comparison\")\n",
        "plt.xlabel(\"Models\")\n",
        "plt.ylabel(\"Values\")\n",
        "plt.legend(title=\"Ranking Metrics\")\n",
        "plt.xticks(rotation=0)\n",
        "plt.show()"
      ]
    },
    {
      "cell_type": "code",
      "execution_count": null,
      "id": "bd496ff1",
      "metadata": {
        "id": "bd496ff1",
        "outputId": "b7ff22af-08ab-4648-e654-1a405a032043"
      },
      "outputs": [
        {
          "data": {
            "image/png": "[encoded data removed]",
            "text/plain": [
              "<Figure size 1000x600 with 1 Axes>"
            ]
          },
          "metadata": {},
          "output_type": "display_data"
        }
      ],
      "source": [
        "result_df.plot(x=\"Model\", y=[\"RMSE\", \"MAE\"], kind=\"bar\", figsize=(10, 6))\n",
        "\n",
        "plt.title(\"Prediction Metrics Comparison\")\n",
        "plt.xlabel(\"Models\")\n",
        "plt.ylabel(\"Values\")\n",
        "plt.legend(title=\"Prediction Metrics\")\n",
        "plt.xticks(rotation=0)\n",
        "plt.show()"
      ]
    },
    {
      "cell_type": "markdown",
      "id": "f917ac58",
      "metadata": {
        "id": "f917ac58"
      },
      "source": [
        "### 6. Nhận xét"
      ]
    },
    {
      "cell_type": "markdown",
      "id": "51f69fa3",
      "metadata": {
        "id": "51f69fa3"
      },
      "source": [
        "**1. LightGCN For Recommendation (Light Graph Convolution Network)**\n",
        "- Hiệu suất tốt nhất về các chỉ số ranking như Precision@10 (0.0042), Recall@10 (0.0370) và NDCG@10 (0.0355).\n",
        "- Tuy RMSE và MAE cao hơn (RMSE = 4.3841), nhưng lại phù hợp với đặc tính của GNN: ưu tiên học mối quan hệ giữa người dùng và sản phẩm trong không gian đồ thị, thay vì dự đoán chính xác điểm số rating.\n",
        "- Phù hợp cho bài toán top-N recommendation.\n",
        "\n",
        "**2. NCF (Neural Collaborative Filtering)**\n",
        "- Dự đoán rating khá tốt (RMSE = 0.8643, MAE = 0.8471), nhờ vào kiến trúc deep learning.\n",
        "- Tuy nhiên, các chỉ số ranking như Precision@10 và Recall@10 còn khá thấp, nên chưa hiệu quả trong việc tìm top-N sản phẩm.\n",
        "- Phù hợp cho các hệ thống cần đánh giá điểm số rating trực tiếp.\n",
        "\n",
        "**3. MF (Matrix Factorization)**\n",
        "- Là mô hình cổ điển, dễ cài đặt, nhanh và khá ổn định.\n",
        "- Precision@10 (0.0022) và Recall@10 (0.0170) ở mức chấp nhận được, dù thấp hơn GNN.\n",
        "- RMSE = 4.0027 chứng tỏ model không quá chính xác trong dự đoán điểm số, nhưng đơn giản và nhẹ, phù hợp khi tài nguyên tính toán bị hạn chế.\n",
        "- Phù hợp làm baseline thôi chứ không thể làm recommend cho 1 trang web thương mại lớn\n",
        "\n",
        "**4. MLP (Multi-Layer Perceptron)**\n",
        "- Cho kết quả dự đoán rating tốt (RMSE = 0.9046) nhưng performance trong top-N (Precision@10 = 0.0025) còn chưa ổn lắm.\n",
        "- Model phụ thuộc nhiều vào lựa chọn kiến trúc và số lượng dữ liệu.\n",
        "- Tiềm năng cao nếu được tinh chỉnh kỹ (fine-tune), nhưng hiện tại cần cải thiện để đạt hiệu suất cao hơn."
      ]
    },
    {
      "cell_type": "markdown",
      "id": "65e113d4",
      "metadata": {
        "id": "65e113d4"
      },
      "source": [
        "### Kết luận"
      ]
    },
    {
      "cell_type": "markdown",
      "id": "e9d5fde4",
      "metadata": {
        "id": "e9d5fde4"
      },
      "source": [
        " => Kết quả cho thấy mô hình deep learning **LightGCN** đặc biệt phù hợp với bài toán hệ thống gợi ý trong thương mại điện tử, khi vừa đạt hiệu suất cao, vừa tận dụng hiệu quả thông tin từ cấu trúc đồ thị của mối quan hệ giữa người dùng và sản phẩm — một ưu điểm nổi bật so với các machine learning truyền thống. Hơn nữa, hiệu suất của LightGCN cũng tốt hơn các mô hình deep learning khác như NCF, MF & MLP."
      ]
    },
    {
      "cell_type": "markdown",
      "id": "ef707516",
      "metadata": {
        "id": "ef707516"
      },
      "source": [
        "### 7. Cải tiến thuật toán GNN"
      ]
    },
    {
      "cell_type": "markdown",
      "id": "23db3311",
      "metadata": {
        "id": "23db3311"
      },
      "source": [
        "Có thể thấy thuật toán GNN (cụ thể hơn là mô hình LightGCN) có mô hình phù hợp nhất cho hệ thống đề xuất bán hàng, không những vậy còn nhẹ nữa, nhưng liệu mô hình LightGCN đã đủ tốt chưa? Liệu hiện nay các doanh nghiệp còn sử dụng mô hình này?"
      ]
    },
    {
      "cell_type": "markdown",
      "id": "c0d8c605",
      "metadata": {
        "id": "c0d8c605"
      },
      "source": [
        "Sau khi tìm hiểu và nghiên cứu kĩ lưỡng, nhóm tìm ra được một mô hình tốt hơn so với LightGCN, đó là UltraGCN, một mô hình được cải tiến từ mới được nghiên cứu và phát minh ra vào năm 2021-2022, sử dụng global similarity constraint giúp giảm chi phí tính toán và cải thiện hiệu suất, cũng như hoạt động trên big data tốt hơn LightGCN."
      ]
    },
    {
      "cell_type": "markdown",
      "id": "91f074ac",
      "metadata": {
        "id": "91f074ac"
      },
      "source": [
        "##### 7.1. Chuẩn bị dữ liệu"
      ]
    },
    {
      "cell_type": "code",
      "execution_count": null,
      "id": "99ee606c",
      "metadata": {
        "id": "99ee606c"
      },
      "outputs": [],
      "source": [
        "user_ids = interactions['user'].unique()\n",
        "user_map = {uid: idx for idx, uid in enumerate(user_ids)}\n",
        "\n",
        "item_ids = interactions['item'].unique()\n",
        "item_map = {iid: idx for idx, iid in enumerate(item_ids)}\n",
        "\n",
        "num_users = len(user_map)\n",
        "num_items = len(item_map)\n",
        "\n",
        "interactions['user_id'] = interactions['user'].map(user_map)\n",
        "interactions['item_id'] = interactions['item'].map(item_map)"
      ]
    },
    {
      "cell_type": "markdown",
      "id": "e51f6b16",
      "metadata": {
        "id": "e51f6b16"
      },
      "source": [
        "#### 7.2. Tạo tập edge và edge weight"
      ]
    },
    {
      "cell_type": "code",
      "execution_count": null,
      "id": "e52c8324",
      "metadata": {
        "id": "e52c8324"
      },
      "outputs": [],
      "source": [
        "user_freq = defaultdict(int)\n",
        "item_freq = defaultdict(int)\n",
        "\n",
        "for row in interactions.itertuples():\n",
        "    user_freq[row.user_id] += 1\n",
        "    item_freq[row.item_id] += 1\n",
        "\n",
        "edge_index = []\n",
        "edge_weight = []\n",
        "\n",
        "for row in interactions.itertuples():\n",
        "    u, i = row.user_id, row.item_id\n",
        "    edge_index.append([u, num_users + i])\n",
        "    edge_index.append([num_users + i, u])\n",
        "\n",
        "    # Weight công thức UltraGCN\n",
        "    w = 1.0 / ((user_freq[u]**0.5) * (item_freq[i]**0.5))\n",
        "    edge_weight.append(w)\n",
        "    edge_weight.append(w)\n",
        "\n",
        "edge_index = torch.tensor(edge_index).t().contiguous()\n",
        "edge_weight = torch.tensor(edge_weight, dtype=torch.float32)"
      ]
    },
    {
      "cell_type": "markdown",
      "id": "5655d112",
      "metadata": {
        "id": "5655d112"
      },
      "source": [
        "#### 7.3. Xây dựng mô hình UltraGCN"
      ]
    },
    {
      "cell_type": "code",
      "execution_count": null,
      "id": "a93699e3",
      "metadata": {
        "id": "a93699e3"
      },
      "outputs": [],
      "source": [
        "class UltraGCN(nn.Module):\n",
        "    def __init__(self, num_nodes, emb_dim):\n",
        "        super().__init__()\n",
        "        self.emb = nn.Embedding(num_nodes, emb_dim)\n",
        "        nn.init.xavier_uniform_(self.emb.weight)\n",
        "\n",
        "    def forward(self, edge_index, edge_weight):\n",
        "        x = self.emb.weight\n",
        "        row, col = edge_index\n",
        "        norm = edge_weight\n",
        "\n",
        "        out = torch.zeros_like(x)\n",
        "        out.index_add_(0, row, x[col] * norm.unsqueeze(1))\n",
        "        return out"
      ]
    },
    {
      "cell_type": "markdown",
      "id": "cdb2c460",
      "metadata": {
        "id": "cdb2c460"
      },
      "source": [
        "#### 7.4. Train mô hình"
      ]
    },
    {
      "cell_type": "code",
      "execution_count": null,
      "id": "991aebc5",
      "metadata": {
        "id": "991aebc5",
        "outputId": "a84b2cd2-552f-4d30-ac21-88c50040ca6d"
      },
      "outputs": [
        {
          "name": "stdout",
          "output_type": "stream",
          "text": [
            "Epoch 0: Loss = 4.1138\n",
            "Epoch 1: Loss = 3.3071\n",
            "Epoch 2: Loss = 2.5606\n",
            "Epoch 3: Loss = 2.0082\n",
            "Epoch 4: Loss = 1.5461\n",
            "Epoch 5: Loss = 1.1274\n",
            "Epoch 6: Loss = 0.8975\n",
            "Epoch 7: Loss = 0.7931\n",
            "Epoch 8: Loss = 0.7797\n",
            "Epoch 9: Loss = 0.8570\n"
          ]
        }
      ],
      "source": [
        "embedding_dim = 32\n",
        "model_ultra = UltraGCN(num_users + num_items, embedding_dim)\n",
        "optimizer = torch.optim.Adam(model_ultra.parameters(), lr=1e-3)\n",
        "\n",
        "for epoch in range(10):\n",
        "    model_ultra.train()\n",
        "    optimizer.zero_grad()\n",
        "    emb = model_ultra(edge_index, edge_weight)\n",
        "    loss = torch.norm(emb)  # Regularization loss\n",
        "    loss.backward()\n",
        "    optimizer.step()\n",
        "    print(f\"Epoch {epoch}: Loss = {loss.item():.4f}\")"
      ]
    },
    {
      "cell_type": "markdown",
      "id": "17efe347",
      "metadata": {
        "id": "17efe347"
      },
      "source": [
        "#### 7.5. Áp dụng mô hình vào train data và trả kết quả đề xuất, giả sử ta lấy reviewerID là \"A1HOG1PYCAE157\""
      ]
    },
    {
      "cell_type": "code",
      "execution_count": null,
      "id": "2c30ec52",
      "metadata": {
        "id": "2c30ec52"
      },
      "outputs": [],
      "source": [
        "def recommend_for_reviewerID_UltraGCN(ReviewerID, model, edge_index, edge_weight, user_map, item_map, df, item_encoder, user_encoder):\n",
        "    if ReviewerID not in user_encoder.classes_:\n",
        "        print(f\"ReviewerID {ReviewerID} does not exist!\")\n",
        "        return None\n",
        "\n",
        "    user_id_full = user_encoder.transform([ReviewerID])[0]\n",
        "    if user_id_full not in user_map:\n",
        "        return None\n",
        "    user_id = user_map[user_id_full]\n",
        "\n",
        "    model.eval()\n",
        "    with torch.no_grad():\n",
        "        x = model(edge_index, edge_weight)\n",
        "        user_emb = x[:len(user_map)]\n",
        "        item_emb = x[len(user_map):]\n",
        "        scores = (user_emb[user_id] @ item_emb.T).cpu().numpy()\n",
        "        top_items = np.argsort(scores)[-5:][::-1]\n",
        "\n",
        "    inv_item_map = {v: k for k, v in item_map.items()}\n",
        "    recommended_item_ids = [inv_item_map[i] for i in top_items]\n",
        "    recommended_asins = item_encoder.inverse_transform(recommended_item_ids)\n",
        "    recommended_products = df[df['asin'].isin(recommended_asins)][['category','title', 'brand', 'price']].drop_duplicates()\n",
        "\n",
        "    print(f\"Recommendation for ReviewerID: {ReviewerID}\")\n",
        "    return recommended_products.reset_index(drop=True)"
      ]
    },
    {
      "cell_type": "code",
      "execution_count": null,
      "id": "8dad8a9c",
      "metadata": {
        "id": "8dad8a9c",
        "outputId": "40f46b07-7cc6-40ca-9c27-52fbcacf247a"
      },
      "outputs": [
        {
          "name": "stdout",
          "output_type": "stream",
          "text": [
            "Recommendation for ReviewerID: A1HOG1PYCAE157\n"
          ]
        },
        {
          "data": {
            "text/html": [
              "<div>\n",
              "<style scoped>\n",
              "    .dataframe tbody tr th:only-of-type {\n",
              "        vertical-align: middle;\n",
              "    }\n",
              "\n",
              "    .dataframe tbody tr th {\n",
              "        vertical-align: top;\n",
              "    }\n",
              "\n",
              "    .dataframe thead th {\n",
              "        text-align: right;\n",
              "    }\n",
              "</style>\n",
              "<table border=\"1\" class=\"dataframe\">\n",
              "  <thead>\n",
              "    <tr style=\"text-align: right;\">\n",
              "      <th></th>\n",
              "      <th>category</th>\n",
              "      <th>title</th>\n",
              "      <th>brand</th>\n",
              "      <th>price</th>\n",
              "    </tr>\n",
              "  </thead>\n",
              "  <tbody>\n",
              "    <tr>\n",
              "      <th>0</th>\n",
              "      <td>Appliances, Refrigerators, Freezers &amp; Ice Make...</td>\n",
              "      <td>Danby 120 Can Beverage Center, Stainless Stee...</td>\n",
              "      <td>Danby</td>\n",
              "      <td>23.78</td>\n",
              "    </tr>\n",
              "    <tr>\n",
              "      <th>1</th>\n",
              "      <td>Appliances, Parts &amp; Accessories, Refrigerator ...</td>\n",
              "      <td>Frigidaire WF3CB Puresource Replacement Filter...</td>\n",
              "      <td>Frigidaire</td>\n",
              "      <td>40.33</td>\n",
              "    </tr>\n",
              "    <tr>\n",
              "      <th>2</th>\n",
              "      <td>Appliances, Parts &amp; Accessories, Refrigerator ...</td>\n",
              "      <td>GE RPWFE Refrigerator Water Filter</td>\n",
              "      <td>GE</td>\n",
              "      <td>48.74</td>\n",
              "    </tr>\n",
              "    <tr>\n",
              "      <th>3</th>\n",
              "      <td>Appliances, Parts &amp; Accessories, Refrigerator ...</td>\n",
              "      <td>EcoAqua DA29-00020B Replacement for Samsung Wa...</td>\n",
              "      <td>EcoAqua</td>\n",
              "      <td>30.99</td>\n",
              "    </tr>\n",
              "    <tr>\n",
              "      <th>4</th>\n",
              "      <td>Appliances, Parts &amp; Accessories, Refrigerator ...</td>\n",
              "      <td>Samsung Aqua-Pure DA29-00003G Plus Compatible ...</td>\n",
              "      <td>Waterfall Filter</td>\n",
              "      <td>17.99</td>\n",
              "    </tr>\n",
              "  </tbody>\n",
              "</table>\n",
              "</div>"
            ],
            "text/plain": [
              "                                            category  \\\n",
              "0  Appliances, Refrigerators, Freezers & Ice Make...   \n",
              "1  Appliances, Parts & Accessories, Refrigerator ...   \n",
              "2  Appliances, Parts & Accessories, Refrigerator ...   \n",
              "3  Appliances, Parts & Accessories, Refrigerator ...   \n",
              "4  Appliances, Parts & Accessories, Refrigerator ...   \n",
              "\n",
              "                                               title             brand  price  \n",
              "0   Danby 120 Can Beverage Center, Stainless Stee...             Danby  23.78  \n",
              "1  Frigidaire WF3CB Puresource Replacement Filter...        Frigidaire  40.33  \n",
              "2                 GE RPWFE Refrigerator Water Filter                GE  48.74  \n",
              "3  EcoAqua DA29-00020B Replacement for Samsung Wa...           EcoAqua  30.99  \n",
              "4  Samsung Aqua-Pure DA29-00003G Plus Compatible ...  Waterfall Filter  17.99  "
            ]
          },
          "execution_count": 24,
          "metadata": {},
          "output_type": "execute_result"
        }
      ],
      "source": [
        "recommend_for_reviewerID_UltraGCN(\"A1HOG1PYCAE157\", model_ultra, edge_index, edge_weight, user_map, item_map, df, item_encoder, user_encoder)"
      ]
    },
    {
      "cell_type": "markdown",
      "id": "a08b8452",
      "metadata": {
        "id": "a08b8452"
      },
      "source": [
        "#### 7.6. So sánh các chỉ số đánh giá so với LightGCN"
      ]
    },
    {
      "cell_type": "code",
      "execution_count": null,
      "id": "485fe84d",
      "metadata": {
        "id": "485fe84d",
        "outputId": "d6faf106-6563-42b7-d3d2-46612b5800f3"
      },
      "outputs": [
        {
          "data": {
            "text/html": [
              "<div>\n",
              "<style scoped>\n",
              "    .dataframe tbody tr th:only-of-type {\n",
              "        vertical-align: middle;\n",
              "    }\n",
              "\n",
              "    .dataframe tbody tr th {\n",
              "        vertical-align: top;\n",
              "    }\n",
              "\n",
              "    .dataframe thead th {\n",
              "        text-align: right;\n",
              "    }\n",
              "</style>\n",
              "<table border=\"1\" class=\"dataframe\">\n",
              "  <thead>\n",
              "    <tr style=\"text-align: right;\">\n",
              "      <th></th>\n",
              "      <th>Model</th>\n",
              "      <th>Precision@10</th>\n",
              "      <th>Recall@10</th>\n",
              "      <th>NDCG@10</th>\n",
              "      <th>RMSE</th>\n",
              "      <th>MAE</th>\n",
              "    </tr>\n",
              "  </thead>\n",
              "  <tbody>\n",
              "    <tr>\n",
              "      <th>0</th>\n",
              "      <td>LightGCN</td>\n",
              "      <td>0.0042</td>\n",
              "      <td>0.0370</td>\n",
              "      <td>0.0355</td>\n",
              "      <td>4.3841</td>\n",
              "      <td>4.2173</td>\n",
              "    </tr>\n",
              "    <tr>\n",
              "      <th>1</th>\n",
              "      <td>UltraGCN</td>\n",
              "      <td>0.0056</td>\n",
              "      <td>0.0412</td>\n",
              "      <td>0.0389</td>\n",
              "      <td>4.2217</td>\n",
              "      <td>4.1059</td>\n",
              "    </tr>\n",
              "  </tbody>\n",
              "</table>\n",
              "</div>"
            ],
            "text/plain": [
              "      Model  Precision@10  Recall@10  NDCG@10    RMSE     MAE\n",
              "0  LightGCN        0.0042     0.0370   0.0355  4.3841  4.2173\n",
              "1  UltraGCN        0.0056     0.0412   0.0389  4.2217  4.1059"
            ]
          },
          "execution_count": 26,
          "metadata": {},
          "output_type": "execute_result"
        }
      ],
      "source": [
        "LightGCN = evaluate_model(\"LightGCN\", predict_gnn, model_gnn, k=10, num_users_to_eval=75000)\n",
        "UltraGCN = evaluate_model(\"UltraGCN\", predict_gnn, model_ultra, k=10, num_users_to_eval=75000)\n",
        "\n",
        "pd.DataFrame([LightGCN, UltraGCN])"
      ]
    },
    {
      "cell_type": "markdown",
      "id": "566ee068",
      "metadata": {
        "id": "566ee068"
      },
      "source": [
        "Nhận xét: So với LightGCN, mô hình UltraGCN cho thấy sự cải tiến rõ rệt ở các chỉ số Precision@10, Recall@10 và NDCG@10. Ngoài ra, RMSE và MAE cũng giảm nhẹ, cho thấy embedding học được từ UltraGCN có chất lượng cao hơn. Và mô hình này cũng không quá nặng nên được các doanh nghiệp tin tưởng sử dụng."
      ]
    },
    {
      "cell_type": "markdown",
      "id": "b0263f61",
      "metadata": {
        "id": "b0263f61"
      },
      "source": [
        "Ngoài UltraGCN ra còn có các thuật toán khác như FedGNN (2023) hoặc Multi-Task Learning Recommendation mà tập đoàn Meta (Facebook, Instagram) đang sử dụng. Nhưng các thuật toán này có độ phức tạp lớn nên không thể áp dụng vào môi trường python căn bản."
      ]
    },
    {
      "cell_type": "markdown",
      "id": "76bc8be5",
      "metadata": {
        "id": "76bc8be5"
      },
      "source": [
        "#### 7.7. Vẽ biểu đồ so sánh 5 mô hình theo yêu cầu"
      ]
    },
    {
      "cell_type": "code",
      "execution_count": null,
      "id": "ab0aa1e7",
      "metadata": {
        "id": "ab0aa1e7"
      },
      "outputs": [],
      "source": [
        "results = []\n",
        "results.append(evaluate_model(\"NCF\", predict_ncf, model_ncf, k=10, num_users_to_eval=75000))\n",
        "results.append(evaluate_model(\"MF\", predict_mf, model_mf, k=10, num_users_to_eval=75000))\n",
        "results.append(evaluate_model(\"MLP\", predict_mlp, model_mlp, k=10, num_users_to_eval=75000))\n",
        "results.append(evaluate_model(\"LightGCN\", predict_gnn, model_gnn, k=10, num_users_to_eval=75000))\n",
        "results.append(evaluate_model(\"UltraGCN\", predict_gnn, model_ultra, k=10, num_users_to_eval=75000))\n",
        "\n",
        "result_df = pd.DataFrame(results)"
      ]
    },
    {
      "cell_type": "code",
      "execution_count": null,
      "id": "55540f1b",
      "metadata": {
        "id": "55540f1b",
        "outputId": "1ddac992-2052-4d14-cff7-b421f80f64cb"
      },
      "outputs": [
        {
          "data": {
            "image/png": "[encoded data removed]",
            "text/plain": [
              "<Figure size 1000x600 with 1 Axes>"
            ]
          },
          "metadata": {},
          "output_type": "display_data"
        }
      ],
      "source": [
        "result_df.plot(x=\"Model\", y=[\"Precision@10\", \"Recall@10\", \"NDCG@10\"], kind=\"bar\", figsize=(10, 6))\n",
        "\n",
        "plt.title(\"Ranking Metrics Comparison\")\n",
        "plt.xlabel(\"Models\")\n",
        "plt.ylabel(\"Values\")\n",
        "plt.legend(title=\"Ranking Metrics\")\n",
        "plt.xticks(rotation=0)\n",
        "plt.show()"
      ]
    },
    {
      "cell_type": "code",
      "execution_count": null,
      "id": "638265f3",
      "metadata": {
        "id": "638265f3",
        "outputId": "6f965668-669f-4e8c-b56f-d351a41c4e5c"
      },
      "outputs": [
        {
          "data": {
            "image/png": "[encoded data removed]",
            "text/plain": [
              "<Figure size 1000x600 with 1 Axes>"
            ]
          },
          "metadata": {},
          "output_type": "display_data"
        }
      ],
      "source": [
        "result_df.plot(x=\"Model\", y=[\"RMSE\", \"MAE\"], kind=\"bar\", figsize=(10, 6))\n",
        "\n",
        "plt.title(\"Prediction Metrics Comparison\")\n",
        "plt.xlabel(\"Models\")\n",
        "plt.ylabel(\"Values\")\n",
        "plt.legend(title=\"Prediction Metrics\")\n",
        "plt.xticks(rotation=0)\n",
        "plt.show()"
      ]
    }
  ],
  "metadata": {
    "kernelspec": {
      "display_name": "Python 3",
      "language": "python",
      "name": "python3"
    },
    "language_info": {
      "codemirror_mode": {
        "name": "ipython",
        "version": 3
      },
      "file_extension": ".py",
      "mimetype": "text/x-python",
      "name": "python",
      "nbconvert_exporter": "python",
      "pygments_lexer": "ipython3",
      "version": "3.13.5"
    },
    "colab": {
      "provenance": []
    }
  },
  "nbformat": 4,
  "nbformat_minor": 5
}